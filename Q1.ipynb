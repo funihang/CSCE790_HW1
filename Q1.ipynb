{
 "cells": [
  {
   "cell_type": "code",
   "execution_count": 1,
   "id": "fc2f42cc",
   "metadata": {},
   "outputs": [
    {
     "name": "stderr",
     "output_type": "stream",
     "text": [
      "/home/nihang/.local/lib/python3.8/site-packages/tqdm/auto.py:22: TqdmWarning: IProgress not found. Please update jupyter and ipywidgets. See https://ipywidgets.readthedocs.io/en/stable/user_install.html\n",
      "  from .autonotebook import tqdm as notebook_tqdm\n"
     ]
    }
   ],
   "source": [
    "import numpy as np\n",
    "import torch\n",
    "import torchvision\n",
    "import matplotlib.pyplot as plt\n",
    "from time import time\n",
    "from torchvision import datasets, transforms\n",
    "from torch import nn, optim"
   ]
  },
  {
   "cell_type": "code",
   "execution_count": 2,
   "id": "9c093684",
   "metadata": {},
   "outputs": [],
   "source": [
    "##transform.ToTensor: convert image to numbers\n",
    "##transform.Normalize: normalize the tensor with mean and std.\n",
    "transform = transforms.Compose([transforms.ToTensor(),\n",
    "                              transforms.Normalize((0.5,), (0.5,)),\n",
    "                              ])"
   ]
  },
  {
   "cell_type": "code",
   "execution_count": 3,
   "id": "5a41db58",
   "metadata": {},
   "outputs": [],
   "source": [
    "# download MNIST dataset\n",
    "trainset = datasets.MNIST('./', download=True, train=True, transform=transform)\n",
    "valset = datasets.MNIST('./', download=True, train=False, transform=transform)\n",
    "trainloader = torch.utils.data.DataLoader(trainset, batch_size=64, shuffle=True)\n",
    "valloader = torch.utils.data.DataLoader(valset, batch_size=64, shuffle=True)"
   ]
  },
  {
   "cell_type": "code",
   "execution_count": 4,
   "id": "08d3a453",
   "metadata": {},
   "outputs": [
    {
     "name": "stdout",
     "output_type": "stream",
     "text": [
      "torch.Size([64, 1, 28, 28]) torch.Size([64])\n"
     ]
    },
    {
     "data": {
      "text/plain": [
       "<matplotlib.image.AxesImage at 0x7f0983db2880>"
      ]
     },
     "execution_count": 4,
     "metadata": {},
     "output_type": "execute_result"
    },
    {
     "data": {
      "image/png": "[encoded data removed]",
      "text/plain": [
       "<Figure size 640x480 with 1 Axes>"
      ]
     },
     "metadata": {},
     "output_type": "display_data"
    }
   ],
   "source": [
    "## \n",
    "dataiter = iter(trainloader)\n",
    "images, labels = dataiter.next()\n",
    "\n",
    "print(images.shape, labels.shape)\n",
    "\n",
    "## show an image\n",
    "plt.imshow(images[0].numpy().squeeze(), cmap='gray_r')"
   ]
  },
  {
   "cell_type": "code",
   "execution_count": 5,
   "id": "6889d575",
   "metadata": {},
   "outputs": [],
   "source": [
    "# ## display more images\n",
    "# figure = plt.figure()\n",
    "# num_of_images = 60\n",
    "# for index in range(1, num_of_images + 1):\n",
    "#     plt.subplot(6, 10, index)\n",
    "#     plt.axis('off')\n",
    "#     plt.imshow(images[index].numpy().squeeze(), cmap='gray_r')"
   ]
  },
  {
   "cell_type": "code",
   "execution_count": 6,
   "id": "bab1c0d6",
   "metadata": {},
   "outputs": [
    {
     "name": "stdout",
     "output_type": "stream",
     "text": [
      "Sequential(\n",
      "  (0): Linear(in_features=784, out_features=128, bias=True)\n",
      "  (1): ReLU()\n",
      "  (2): Linear(in_features=128, out_features=64, bias=True)\n",
      "  (3): ReLU()\n",
      "  (4): Linear(in_features=64, out_features=10, bias=True)\n",
      "  (5): LogSoftmax(dim=1)\n",
      ")\n"
     ]
    }
   ],
   "source": [
    "## build the neural network with two hidden layers\n",
    "input_size = 784\n",
    "hidden_sizes = [128, 64]\n",
    "output_size = 10\n",
    "\n",
    "model = nn.Sequential(nn.Linear(input_size, hidden_sizes[0]),\n",
    "                      nn.ReLU(),\n",
    "                      nn.Linear(hidden_sizes[0], hidden_sizes[1]),\n",
    "                      nn.ReLU(),\n",
    "                      nn.Linear(hidden_sizes[1], output_size),\n",
    "                      nn.LogSoftmax(dim=1))\n",
    "print(model)"
   ]
  },
  {
   "cell_type": "code",
   "execution_count": 7,
   "id": "7a36800b",
   "metadata": {},
   "outputs": [],
   "source": [
    "criterion = nn.NLLLoss()\n",
    "images, labels = next(iter(trainloader))\n",
    "images = images.view(images.shape[0], -1)\n",
    "\n",
    "logps = model(images) #log probabilities\n",
    "loss = criterion(logps, labels) #calculate the NLL loss"
   ]
  },
  {
   "cell_type": "code",
   "execution_count": 9,
   "id": "d71e6540",
   "metadata": {},
   "outputs": [
    {
     "name": "stdout",
     "output_type": "stream",
     "text": [
      "Epoch 0 - Training loss: 0.2824671301148784, Valid loss: 0.22361041605472565, valid accuracy: 0.9356\n",
      "Epoch 1 - Training loss: 0.21677226399276048, Valid loss: 0.1829182207584381, valid accuracy: 0.9432\n",
      "Epoch 2 - Training loss: 0.17406783690815097, Valid loss: 0.16180270910263062, valid accuracy: 0.952\n",
      "Epoch 3 - Training loss: 0.14617622312285436, Valid loss: 0.13468429446220398, valid accuracy: 0.9588\n",
      "Epoch 4 - Training loss: 0.12570883839258126, Valid loss: 0.12193785607814789, valid accuracy: 0.963\n",
      "Epoch 5 - Training loss: 0.11066819194839327, Valid loss: 0.11157020181417465, valid accuracy: 0.9666\n",
      "Epoch 6 - Training loss: 0.09836611926639036, Valid loss: 0.11563429981470108, valid accuracy: 0.9661\n",
      "Epoch 7 - Training loss: 0.08820285961262263, Valid loss: 0.09655115753412247, valid accuracy: 0.9708\n",
      "Epoch 8 - Training loss: 0.08040303190244731, Valid loss: 0.09677457064390182, valid accuracy: 0.9682\n",
      "Epoch 9 - Training loss: 0.07311928552736256, Valid loss: 0.09315962344408035, valid accuracy: 0.9711\n",
      "Epoch 10 - Training loss: 0.06703888024858781, Valid loss: 0.09774456918239594, valid accuracy: 0.9696\n",
      "Epoch 11 - Training loss: 0.06189579505975773, Valid loss: 0.0884467214345932, valid accuracy: 0.9717\n",
      "Epoch 12 - Training loss: 0.05636590308443244, Valid loss: 0.08435157686471939, valid accuracy: 0.9728\n",
      "Epoch 13 - Training loss: 0.052863090151627025, Valid loss: 0.08180228620767593, valid accuracy: 0.973\n",
      "Epoch 14 - Training loss: 0.04868803060413011, Valid loss: 0.0828922763466835, valid accuracy: 0.9745\n",
      "Epoch 15 - Training loss: 0.04432831180697954, Valid loss: 0.07450459152460098, valid accuracy: 0.9769\n",
      "Epoch 16 - Training loss: 0.041954044831235576, Valid loss: 0.07439529150724411, valid accuracy: 0.9775\n",
      "Epoch 17 - Training loss: 0.03865353756600113, Valid loss: 0.07672955840826035, valid accuracy: 0.9764\n",
      "Epoch 18 - Training loss: 0.03602181644196799, Valid loss: 0.08204096555709839, valid accuracy: 0.974\n",
      "Epoch 19 - Training loss: 0.033746702680443684, Valid loss: 0.07572170346975327, valid accuracy: 0.9771\n",
      "Epoch 20 - Training loss: 0.031221045154223304, Valid loss: 0.0728628858923912, valid accuracy: 0.978\n",
      "Epoch 21 - Training loss: 0.028502185983128592, Valid loss: 0.07022424787282944, valid accuracy: 0.9779\n",
      "Epoch 22 - Training loss: 0.02684289477701023, Valid loss: 0.07494421303272247, valid accuracy: 0.9767\n",
      "Epoch 23 - Training loss: 0.02473627286038544, Valid loss: 0.07456841319799423, valid accuracy: 0.9767\n",
      "Epoch 24 - Training loss: 0.023015169669434166, Valid loss: 0.07492046058177948, valid accuracy: 0.978\n",
      "Epoch 25 - Training loss: 0.02136775222178777, Valid loss: 0.07205446809530258, valid accuracy: 0.9778\n",
      "Epoch 26 - Training loss: 0.019816343831993054, Valid loss: 0.08066359907388687, valid accuracy: 0.9772\n",
      "Epoch 27 - Training loss: 0.017612397589391645, Valid loss: 0.07469295710325241, valid accuracy: 0.9789\n",
      "Epoch 28 - Training loss: 0.016423661830717886, Valid loss: 0.0790872722864151, valid accuracy: 0.9765\n",
      "Epoch 29 - Training loss: 0.016262683211913907, Valid loss: 0.0760631412267685, valid accuracy: 0.9773\n",
      "Epoch 30 - Training loss: 0.014258783582980479, Valid loss: 0.0735616534948349, valid accuracy: 0.9776\n",
      "Epoch 31 - Training loss: 0.013117196182798552, Valid loss: 0.07711373269557953, valid accuracy: 0.9782\n",
      "Epoch 32 - Training loss: 0.012143780742196053, Valid loss: 0.0735442116856575, valid accuracy: 0.9788\n",
      "Epoch 33 - Training loss: 0.01125166835268336, Valid loss: 0.0774230882525444, valid accuracy: 0.9772\n",
      "Epoch 34 - Training loss: 0.010374324543121483, Valid loss: 0.07657000422477722, valid accuracy: 0.9781\n",
      "Epoch 35 - Training loss: 0.00951461078787929, Valid loss: 0.07606663554906845, valid accuracy: 0.9785\n",
      "Epoch 36 - Training loss: 0.008909561539278937, Valid loss: 0.08036096394062042, valid accuracy: 0.9784\n",
      "Epoch 37 - Training loss: 0.008146365307262048, Valid loss: 0.07458043098449707, valid accuracy: 0.9798\n",
      "Epoch 38 - Training loss: 0.007432881079595298, Valid loss: 0.08041717857122421, valid accuracy: 0.9778\n",
      "Epoch 39 - Training loss: 0.0067072419331565165, Valid loss: 0.0749034509062767, valid accuracy: 0.9794\n",
      "Epoch 40 - Training loss: 0.005682409706916204, Valid loss: 0.07795126736164093, valid accuracy: 0.9795\n",
      "Epoch 41 - Training loss: 0.005629832245812722, Valid loss: 0.07873483002185822, valid accuracy: 0.9785\n",
      "Epoch 42 - Training loss: 0.005133342542449449, Valid loss: 0.07866007089614868, valid accuracy: 0.9789\n",
      "Epoch 43 - Training loss: 0.00471281508248903, Valid loss: 0.08033264428377151, valid accuracy: 0.9782\n",
      "Epoch 44 - Training loss: 0.0042017947218952025, Valid loss: 0.07947133481502533, valid accuracy: 0.9789\n",
      "Epoch 45 - Training loss: 0.004214965314954333, Valid loss: 0.08088389039039612, valid accuracy: 0.9786\n",
      "Epoch 46 - Training loss: 0.0036869245464789435, Valid loss: 0.07779766619205475, valid accuracy: 0.9795\n",
      "Epoch 47 - Training loss: 0.0034935105141446015, Valid loss: 0.07840374857187271, valid accuracy: 0.9796\n",
      "Epoch 48 - Training loss: 0.00314521399637022, Valid loss: 0.07859286665916443, valid accuracy: 0.9802\n",
      "Epoch 49 - Training loss: 0.0030327310444557727, Valid loss: 0.07903502881526947, valid accuracy: 0.9805\n",
      "Training Time (in minutes) = 10.491926848888397\n"
     ]
    }
   ],
   "source": [
    "## training process\n",
    "optimizer = optim.SGD(model.parameters(), lr=0.003, momentum=0.9)\n",
    "time0 = time()\n",
    "\n",
    "train_list = []\n",
    "valid_list = []\n",
    "\n",
    "min_loss = np.inf\n",
    "epochs = 50\n",
    "for e in range(epochs):\n",
    "    running_loss = 0\n",
    "    for images, labels in trainloader:\n",
    "        # Flatten MNIST images into a 784 long vector\n",
    "        images = images.view(images.shape[0], -1)\n",
    "    \n",
    "        # Training pass\n",
    "        optimizer.zero_grad()\n",
    "        \n",
    "        output = model(images)\n",
    "        loss = criterion(output, labels)\n",
    "        \n",
    "        #This is where the model learns by backpropagating\n",
    "        loss.backward()\n",
    "        \n",
    "        #And optimizes its weights here\n",
    "        optimizer.step()\n",
    "        \n",
    "        running_loss += loss.item()\n",
    "    #else:\n",
    "    #    print(\"Epoch {} - Training loss: {}\".format(e, running_loss/len(trainloader)))\n",
    "        \n",
    "    ## valid each epoch\n",
    "    correct_count, all_count = 0, 0\n",
    "    valid_loss = 0\n",
    "    with torch.no_grad():\n",
    "        for images,labels in valloader:\n",
    "            img = images.view(images.shape[0], -1)\n",
    "            output = model(img)\n",
    "            # print(output.shape)\n",
    "            loss = criterion(output, labels)\n",
    "            valid_loss += loss\n",
    "            for i in range(len(labels)):\n",
    "                img = images[i].view(1, 784)\n",
    "                with torch.no_grad():\n",
    "                    logps = model(img)\n",
    "                ps = torch.exp(logps)\n",
    "                probab = list(ps.numpy()[0])\n",
    "                pred_label = probab.index(max(probab))\n",
    "                true_label = labels.numpy()[i]\n",
    "                if(true_label == pred_label):\n",
    "                    correct_count += 1\n",
    "                all_count += 1\n",
    "    \n",
    "    \n",
    "    tmp_train_loss = running_loss/len(trainloader)\n",
    "    tmp_valid_loss = valid_loss/len(valloader)\n",
    "    \n",
    "    train_list.append(tmp_train_loss)\n",
    "    valid_list.append(tmp_valid_loss)\n",
    "    \n",
    "    if min_loss > tmp_valid_loss:\n",
    "        bst_model = model\n",
    "    print(\"Epoch {} - Training loss: {}, Valid loss: {}, valid accuracy: {}\".format(e, tmp_train_loss, tmp_valid_loss, correct_count/all_count))\n",
    "    # print(\"Number Of Images Tested =\", all_count)\n",
    "    #print(\"Valid Model Accuracy =\", (correct_count/all_count))\n",
    "    \n",
    "    \n",
    "print(\"Training Time (in minutes) =\",(time()-time0)/60)"
   ]
  },
  {
   "cell_type": "code",
   "execution_count": 10,
   "id": "8b400ca1",
   "metadata": {},
   "outputs": [],
   "source": [
    "## save best model\n",
    "torch.save(bst_model, './my_mnist_model.pt') "
   ]
  },
  {
   "cell_type": "code",
   "execution_count": 15,
   "id": "cdfbd33c",
   "metadata": {},
   "outputs": [
    {
     "data": {
      "image/png": "[encoded data removed]",
      "text/plain": [
       "<Figure size 640x480 with 1 Axes>"
      ]
     },
     "metadata": {},
     "output_type": "display_data"
    }
   ],
   "source": [
    "## plot loss cruve\n",
    "import matplotlib.pyplot as plt\n",
    "\n",
    "idx_list = list(range(len(valid_list)))\n",
    "\n",
    "#fig = plt.figure()\n",
    "plt.plot(idx_list,train_list,'s-',color = 'r',label=\"Train loss\")  # train curve\n",
    "plt.plot(idx_list,valid_list,'o-',color = 'g',label=\"Valid loss\")  # validation curve\n",
    "plt.xlabel(\"Epochs\")\n",
    "plt.ylabel(\"Loss\")\n",
    "plt.legend() \n",
    "plt.title(\"Train-Valid Loss Curve\")\n",
    "plt.savefig(\"Q1_loss_curve\")\n",
    "plt.show()\n"
   ]
  },
  {
   "cell_type": "code",
   "execution_count": 16,
   "id": "06ce7138",
   "metadata": {},
   "outputs": [
    {
     "name": "stdout",
     "output_type": "stream",
     "text": [
      "Sequential(\n",
      "  (0): Linear(in_features=784, out_features=256, bias=True)\n",
      "  (1): ReLU()\n",
      "  (2): Linear(in_features=256, out_features=128, bias=True)\n",
      "  (3): ReLU()\n",
      "  (4): Linear(in_features=128, out_features=10, bias=True)\n",
      "  (5): LogSoftmax(dim=1)\n",
      ")\n",
      "Epoch 0 - Training loss: 0.6085343710395065, Valid loss: 0.302420973777771, valid accuracy: 0.9102\n",
      "Epoch 1 - Training loss: 0.27243654767095027, Valid loss: 0.22397109866142273, valid accuracy: 0.9351\n",
      "Epoch 2 - Training loss: 0.2100204850938211, Valid loss: 0.17923890054225922, valid accuracy: 0.947\n",
      "Epoch 3 - Training loss: 0.16712841436441647, Valid loss: 0.15027521550655365, valid accuracy: 0.9542\n",
      "Epoch 4 - Training loss: 0.13784878640207274, Valid loss: 0.12717264890670776, valid accuracy: 0.9631\n",
      "Epoch 5 - Training loss: 0.11811551319034115, Valid loss: 0.11522170156240463, valid accuracy: 0.9657\n",
      "Epoch 6 - Training loss: 0.10164314809578981, Valid loss: 0.11276401579380035, valid accuracy: 0.9651\n",
      "Epoch 7 - Training loss: 0.08821811775035505, Valid loss: 0.09135720133781433, valid accuracy: 0.9721\n",
      "Epoch 8 - Training loss: 0.07950241247098694, Valid loss: 0.09298022836446762, valid accuracy: 0.9693\n",
      "Epoch 9 - Training loss: 0.07173157988070472, Valid loss: 0.09214462339878082, valid accuracy: 0.9696\n",
      "Epoch 10 - Training loss: 0.06419075671027401, Valid loss: 0.08467847108840942, valid accuracy: 0.974\n",
      "Epoch 11 - Training loss: 0.0596415375956078, Valid loss: 0.07801349461078644, valid accuracy: 0.9761\n",
      "Epoch 12 - Training loss: 0.05271821699987875, Valid loss: 0.08113997429609299, valid accuracy: 0.9746\n",
      "Epoch 13 - Training loss: 0.048600451829882936, Valid loss: 0.0802883729338646, valid accuracy: 0.9743\n",
      "Epoch 14 - Training loss: 0.04397908091740703, Valid loss: 0.07419268041849136, valid accuracy: 0.9758\n",
      "Epoch 15 - Training loss: 0.04044519179537376, Valid loss: 0.07240381091833115, valid accuracy: 0.9777\n",
      "Epoch 16 - Training loss: 0.03713490803520491, Valid loss: 0.07265248894691467, valid accuracy: 0.9762\n",
      "Epoch 17 - Training loss: 0.033617594240626485, Valid loss: 0.07146794348955154, valid accuracy: 0.9778\n",
      "Epoch 18 - Training loss: 0.029712634695160674, Valid loss: 0.06749715656042099, valid accuracy: 0.9784\n",
      "Epoch 19 - Training loss: 0.02804759053382099, Valid loss: 0.06317821890115738, valid accuracy: 0.9791\n",
      "Epoch 20 - Training loss: 0.025577983659094396, Valid loss: 0.06310408562421799, valid accuracy: 0.9791\n",
      "Epoch 21 - Training loss: 0.02352001843614075, Valid loss: 0.0670013576745987, valid accuracy: 0.9789\n",
      "Epoch 22 - Training loss: 0.021247979550153763, Valid loss: 0.06418008357286453, valid accuracy: 0.9792\n",
      "Epoch 23 - Training loss: 0.02007537466872395, Valid loss: 0.062200307846069336, valid accuracy: 0.9801\n",
      "Epoch 24 - Training loss: 0.018015154838020395, Valid loss: 0.06830611079931259, valid accuracy: 0.9781\n",
      "Epoch 25 - Training loss: 0.016070998856673208, Valid loss: 0.06609604507684708, valid accuracy: 0.9798\n",
      "Epoch 26 - Training loss: 0.014478225777395316, Valid loss: 0.0650155171751976, valid accuracy: 0.9806\n",
      "Epoch 27 - Training loss: 0.013109700866356325, Valid loss: 0.06366600841283798, valid accuracy: 0.9819\n",
      "Epoch 28 - Training loss: 0.012479346894592331, Valid loss: 0.07246732711791992, valid accuracy: 0.9778\n",
      "Epoch 29 - Training loss: 0.010960640762421264, Valid loss: 0.06408680975437164, valid accuracy: 0.9806\n",
      "Epoch 30 - Training loss: 0.010190227781849375, Valid loss: 0.06609126180410385, valid accuracy: 0.979\n",
      "Epoch 31 - Training loss: 0.00913218231208976, Valid loss: 0.06911204010248184, valid accuracy: 0.9798\n",
      "Epoch 32 - Training loss: 0.007775747358040916, Valid loss: 0.06433876603841782, valid accuracy: 0.9796\n",
      "Epoch 33 - Training loss: 0.007815514061252958, Valid loss: 0.06370491534471512, valid accuracy: 0.9805\n",
      "Epoch 34 - Training loss: 0.0066893794595562755, Valid loss: 0.06319859623908997, valid accuracy: 0.9807\n",
      "Epoch 35 - Training loss: 0.006008259292035031, Valid loss: 0.06418966501951218, valid accuracy: 0.9805\n",
      "Epoch 36 - Training loss: 0.005780033478853422, Valid loss: 0.06572116911411285, valid accuracy: 0.9813\n",
      "Epoch 37 - Training loss: 0.005179461246716101, Valid loss: 0.06353651732206345, valid accuracy: 0.9811\n",
      "Epoch 38 - Training loss: 0.004569726113545478, Valid loss: 0.06623896211385727, valid accuracy: 0.9805\n",
      "Epoch 39 - Training loss: 0.004262680648681164, Valid loss: 0.06553389877080917, valid accuracy: 0.9804\n",
      "Epoch 40 - Training loss: 0.003989173868012779, Valid loss: 0.06456161290407181, valid accuracy: 0.9814\n",
      "Epoch 41 - Training loss: 0.0034857598467598304, Valid loss: 0.06756050884723663, valid accuracy: 0.9805\n",
      "Epoch 42 - Training loss: 0.00341199904182167, Valid loss: 0.06614318490028381, valid accuracy: 0.981\n",
      "Epoch 43 - Training loss: 0.003106399617210437, Valid loss: 0.06827907264232635, valid accuracy: 0.9809\n",
      "Epoch 44 - Training loss: 0.002876951417520899, Valid loss: 0.06589998304843903, valid accuracy: 0.9806\n",
      "Epoch 45 - Training loss: 0.002645918498148064, Valid loss: 0.06696607172489166, valid accuracy: 0.9813\n",
      "Epoch 46 - Training loss: 0.0025259461530879796, Valid loss: 0.06720582395792007, valid accuracy: 0.9807\n",
      "Epoch 47 - Training loss: 0.0024296130895600228, Valid loss: 0.06727614998817444, valid accuracy: 0.9815\n",
      "Epoch 48 - Training loss: 0.0021979435532635113, Valid loss: 0.0665406882762909, valid accuracy: 0.9814\n",
      "Epoch 49 - Training loss: 0.0020738674343337986, Valid loss: 0.06680747121572495, valid accuracy: 0.9809\n",
      "Training Time (in minutes) = 11.04777737458547\n"
     ]
    }
   ],
   "source": [
    "## use the same architecture, but increase the number of neurons in the hidden layers.\n",
    "\n",
    "\n",
    "## build the neural network with one hidden layer\n",
    "input_size = 784\n",
    "hidden_sizes = [256, 128]\n",
    "output_size = 10\n",
    "\n",
    "model = nn.Sequential(nn.Linear(input_size, hidden_sizes[0]),\n",
    "                      nn.ReLU(),\n",
    "                      nn.Linear(hidden_sizes[0], hidden_sizes[1]),\n",
    "                      nn.ReLU(),\n",
    "                      nn.Linear(hidden_sizes[1], output_size),\n",
    "                      nn.LogSoftmax(dim=1))\n",
    "print(model)\n",
    "\n",
    "criterion = nn.NLLLoss()\n",
    "images, labels = next(iter(trainloader))\n",
    "images = images.view(images.shape[0], -1)\n",
    "\n",
    "logps = model(images) #log probabilities\n",
    "loss = criterion(logps, labels) #calculate the NLL loss\n",
    "\n",
    "## training process\n",
    "optimizer = optim.SGD(model.parameters(), lr=0.003, momentum=0.9)\n",
    "time0 = time()\n",
    "\n",
    "train_list = []\n",
    "valid_list = []\n",
    "\n",
    "min_loss = np.inf\n",
    "epochs = 50\n",
    "for e in range(epochs):\n",
    "    running_loss = 0\n",
    "    for images, labels in trainloader:\n",
    "        # Flatten MNIST images into a 784 long vector\n",
    "        images = images.view(images.shape[0], -1)\n",
    "    \n",
    "        # Training pass\n",
    "        optimizer.zero_grad()\n",
    "        \n",
    "        output = model(images)\n",
    "        loss = criterion(output, labels)\n",
    "        \n",
    "        #This is where the model learns by backpropagating\n",
    "        loss.backward()\n",
    "        \n",
    "        #And optimizes its weights here\n",
    "        optimizer.step()\n",
    "        \n",
    "        running_loss += loss.item()\n",
    "    #else:\n",
    "    #    print(\"Epoch {} - Training loss: {}\".format(e, running_loss/len(trainloader)))\n",
    "        \n",
    "    ## valid each epoch\n",
    "    correct_count, all_count = 0, 0\n",
    "    valid_loss = 0\n",
    "    with torch.no_grad():\n",
    "        for images,labels in valloader:\n",
    "            img = images.view(images.shape[0], -1)\n",
    "            output = model(img)\n",
    "            # print(output.shape)\n",
    "            loss = criterion(output, labels)\n",
    "            valid_loss += loss\n",
    "            for i in range(len(labels)):\n",
    "                img = images[i].view(1, 784)\n",
    "                with torch.no_grad():\n",
    "                    logps = model(img)\n",
    "                ps = torch.exp(logps)\n",
    "                probab = list(ps.numpy()[0])\n",
    "                pred_label = probab.index(max(probab))\n",
    "                true_label = labels.numpy()[i]\n",
    "                if(true_label == pred_label):\n",
    "                    correct_count += 1\n",
    "                all_count += 1\n",
    "    \n",
    "    \n",
    "    tmp_train_loss = running_loss/len(trainloader)\n",
    "    tmp_valid_loss = valid_loss/len(valloader)\n",
    "    \n",
    "    train_list.append(tmp_train_loss)\n",
    "    valid_list.append(tmp_valid_loss)\n",
    "    \n",
    "    if min_loss > tmp_valid_loss:\n",
    "        bst_model = model\n",
    "    print(\"Epoch {} - Training loss: {}, Valid loss: {}, valid accuracy: {}\".format(e, tmp_train_loss, tmp_valid_loss, correct_count/all_count))\n",
    "    # print(\"Number Of Images Tested =\", all_count)\n",
    "    #print(\"Valid Model Accuracy =\", (correct_count/all_count))\n",
    "    \n",
    "    \n",
    "print(\"Training Time (in minutes) =\",(time()-time0)/60)"
   ]
  },
  {
   "cell_type": "code",
   "execution_count": 18,
   "id": "aa166f5f",
   "metadata": {},
   "outputs": [
    {
     "data": {
      "image/png": "[encoded data removed]",
      "text/plain": [
       "<Figure size 640x480 with 1 Axes>"
      ]
     },
     "metadata": {},
     "output_type": "display_data"
    }
   ],
   "source": [
    "## plot loss cruve\n",
    "import matplotlib.pyplot as plt\n",
    "\n",
    "idx_list = list(range(len(valid_list)))\n",
    "\n",
    "#fig = plt.figure()\n",
    "plt.plot(idx_list,train_list,'s-',color = 'r',label=\"Train loss\")  # train curve\n",
    "plt.plot(idx_list,valid_list,'o-',color = 'g',label=\"Valid loss\")  # validation curve\n",
    "plt.xlabel(\"Epochs\")\n",
    "plt.ylabel(\"Loss\")\n",
    "plt.legend() \n",
    "plt.title(\"Adjusted Train-Valid Loss Curve\")\n",
    "plt.savefig(\"adjusted_Q1_loss_curve\")\n",
    "plt.show()\n"
   ]
  },
  {
   "cell_type": "code",
   "execution_count": null,
   "id": "4b5acd78",
   "metadata": {},
   "outputs": [],
   "source": []
  }
 ],
 "metadata": {
  "kernelspec": {
   "display_name": "Python 3 (ipykernel)",
   "language": "python",
   "name": "python3"
  },
  "language_info": {
   "codemirror_mode": {
    "name": "ipython",
    "version": 3
   },
   "file_extension": ".py",
   "mimetype": "text/x-python",
   "name": "python",
   "nbconvert_exporter": "python",
   "pygments_lexer": "ipython3",
   "version": "3.8.10"
  }
 },
 "nbformat": 4,
 "nbformat_minor": 5
}
